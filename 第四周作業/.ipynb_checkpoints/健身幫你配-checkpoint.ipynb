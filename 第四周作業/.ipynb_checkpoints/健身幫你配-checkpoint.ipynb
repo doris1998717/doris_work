{
 "cells": [
  {
   "cell_type": "markdown",
   "metadata": {},
   "source": [
    "# 105405132 廣告四 宋靜 健身幫你配!"
   ]
  },
  {
   "cell_type": "code",
   "execution_count": 6,
   "metadata": {},
   "outputs": [
    {
     "name": "stdout",
     "output_type": "stream",
     "text": [
      "今天想消耗多少熱量?(kcal) 400\n",
      "哇!感覺今天可以仰臥起坐56分鐘唷\n"
     ]
    }
   ],
   "source": [
    "import random\n",
    "workout = {\"仰臥起坐\":7.17, \"伏地挺身\":6, \"跳繩\":8.4, \"慢跑\":4.7}\n",
    "\n",
    "burn = int(input(\"今天想消耗多少熱量?(kcal) \"))\n",
    "w = random.choice(list(workout.keys()))\n",
    "result = round(burn / workout[w])\n",
    "print(\"哇!感覺今天可以\" + w + str(result) + \"分鐘唷\")"
   ]
  },
  {
   "cell_type": "code",
   "execution_count": null,
   "metadata": {},
   "outputs": [],
   "source": []
  }
 ],
 "metadata": {
  "kernelspec": {
   "display_name": "Python 3",
   "language": "python",
   "name": "python3"
  },
  "language_info": {
   "codemirror_mode": {
    "name": "ipython",
    "version": 3
   },
   "file_extension": ".py",
   "mimetype": "text/x-python",
   "name": "python",
   "nbconvert_exporter": "python",
   "pygments_lexer": "ipython3",
   "version": "3.7.3"
  }
 },
 "nbformat": 4,
 "nbformat_minor": 2
}
