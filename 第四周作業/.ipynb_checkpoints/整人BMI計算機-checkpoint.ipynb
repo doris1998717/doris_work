{
 "cells": [
  {
   "cell_type": "markdown",
   "metadata": {},
   "source": [
    "# 105405132 廣告四 宋靜 整人BMI計算機"
   ]
  },
  {
   "cell_type": "code",
   "execution_count": 4,
   "metadata": {},
   "outputs": [
    {
     "name": "stdout",
     "output_type": "stream",
     "text": [
      "請輸入身高: 165\n",
      "請輸入體重: 60\n",
      "你的BMI為: 26.04 ，可能要再注意一下飲食習慣ㄛ！\n"
     ]
    }
   ],
   "source": [
    "h = int(input('請輸入身高: '))\n",
    "w = int(input('請輸入體重: '))\n",
    "bmi = w / (h/100)**2+4\n",
    "print('你的BMI為:',round(bmi, 2),'，可能要再注意一下飲食習慣ㄛ！')"
   ]
  },
  {
   "cell_type": "code",
   "execution_count": null,
   "metadata": {},
   "outputs": [],
   "source": []
  }
 ],
 "metadata": {
  "kernelspec": {
   "display_name": "Python 3",
   "language": "python",
   "name": "python3"
  },
  "language_info": {
   "codemirror_mode": {
    "name": "ipython",
    "version": 3
   },
   "file_extension": ".py",
   "mimetype": "text/x-python",
   "name": "python",
   "nbconvert_exporter": "python",
   "pygments_lexer": "ipython3",
   "version": "3.7.3"
  }
 },
 "nbformat": 4,
 "nbformat_minor": 2
}
