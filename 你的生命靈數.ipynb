{
 "cells": [
  {
   "cell_type": "markdown",
   "metadata": {},
   "source": [
    "# 105405132 廣告四 宋靜_生命靈數"
   ]
  },
  {
   "cell_type": "markdown",
   "metadata": {},
   "source": [
    "算蒜泥的生命靈數><我覺得超級準ㄉ"
   ]
  },
  {
   "cell_type": "code",
   "execution_count": 7,
   "metadata": {},
   "outputs": [
    {
     "name": "stdout",
     "output_type": "stream",
     "text": [
      "請輸入出生年月日(格式範例：19980717) ： 19980721\n",
      "你的零數為1，你的零數意涵為：開創、獨立、領導\n"
     ]
    }
   ],
   "source": [
    "birth = input(\"請輸入出生年月日(格式範例：19980717) ： \")\n",
    "r = ''\n",
    "while len(birth) > 1:\n",
    "    number = 0\n",
    "    for i in birth:\n",
    "        number += int(i)\n",
    "    birth = str(number)\n",
    "\n",
    "birth = int(birth)\n",
    "\n",
    "if birth == 1:\n",
    "    r = \"開創、獨立、領導\"\n",
    "elif birth == 2:\n",
    "    r = \"溝通、合作、協調\"\n",
    "elif birth == 3:\n",
    "    r = \"創意、想法、表達\"\n",
    "elif birth == 4:\n",
    "    r = \"堅持、穩定、規則\"\n",
    "elif birth == 5:\n",
    "    r = \"自由、挑戰、變化\"\n",
    "elif birth == 6:\n",
    "    r = \"關懷、體貼、愛\"\n",
    "elif birth == 7:\n",
    "    r = \"真理、分析、敏銳\"\n",
    "elif birth == 8:\n",
    "    r = \"權勢、財富、事業\"\n",
    "elif birth == 9:\n",
    "    r = \"智慧、博愛、奉獻\"\n",
    "elif birth == 0:\n",
    "    r = \"稀釋、融合、化解\"\n",
    "    \n",
    "print(\"你的零數為\" + str(birth) + \"，你的零數意涵為：\" + r)"
   ]
  },
  {
   "cell_type": "code",
   "execution_count": null,
   "metadata": {},
   "outputs": [],
   "source": []
  }
 ],
 "metadata": {
  "kernelspec": {
   "display_name": "Python 3",
   "language": "python",
   "name": "python3"
  },
  "language_info": {
   "codemirror_mode": {
    "name": "ipython",
    "version": 3
   },
   "file_extension": ".py",
   "mimetype": "text/x-python",
   "name": "python",
   "nbconvert_exporter": "python",
   "pygments_lexer": "ipython3",
   "version": "3.7.3"
  }
 },
 "nbformat": 4,
 "nbformat_minor": 2
}
