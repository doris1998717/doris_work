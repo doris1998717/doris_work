{
 "cells": [
  {
   "cell_type": "markdown",
   "metadata": {},
   "source": [
    "# 首都猜猜猜 105405132 廣告四 宋靜"
   ]
  },
  {
   "cell_type": "code",
   "execution_count": 1,
   "metadata": {},
   "outputs": [
    {
     "name": "stdout",
     "output_type": "stream",
     "text": [
      "請輸入該國家的首都名稱\n",
      "中華民國\n",
      "首都是：台北\n",
      "答對了，繼續加油！\n",
      "印度\n",
      "首都是：新德里\n",
      "答對了，繼續加油！\n",
      "美國\n",
      "首都是：我\n",
      "答錯囉，再見\n"
     ]
    }
   ],
   "source": [
    "import random\n",
    "\n",
    "countries = {'美國': '華盛頓', '土耳其': '安卡拉', '加拿大': '渥太華', '印度': '新德里', '越南': '河內',\n",
    "            '澳洲': '坎培拉', '中華民國': '台北', '巴西': '巴西利亞'}\n",
    "\n",
    "print('請輸入該國家的首都名稱')\n",
    "while True:\n",
    "    if countries:\n",
    "        q = random.choice(list(countries.keys()))\n",
    "        print(q)\n",
    "        g = input('首都是：')\n",
    "        a = countries[q]\n",
    "        if g == a:\n",
    "            print('答對了，繼續加油！')\n",
    "        else:\n",
    "            print('答錯囉，再見')\n",
    "            break\n",
    "        countries.pop(q)\n",
    "    else:\n",
    "        print('你太強了！王者！')\n",
    "        break"
   ]
  },
  {
   "cell_type": "code",
   "execution_count": null,
   "metadata": {},
   "outputs": [],
   "source": []
  }
 ],
 "metadata": {
  "kernelspec": {
   "display_name": "Python 3",
   "language": "python",
   "name": "python3"
  },
  "language_info": {
   "codemirror_mode": {
    "name": "ipython",
    "version": 3
   },
   "file_extension": ".py",
   "mimetype": "text/x-python",
   "name": "python",
   "nbconvert_exporter": "python",
   "pygments_lexer": "ipython3",
   "version": "3.7.3"
  }
 },
 "nbformat": 4,
 "nbformat_minor": 2
}
