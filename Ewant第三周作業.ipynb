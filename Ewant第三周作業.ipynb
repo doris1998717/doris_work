{
 "cells": [
  {
   "cell_type": "markdown",
   "metadata": {},
   "source": [
    "# 105405132 廣告四 宋靜"
   ]
  },
  {
   "cell_type": "markdown",
   "metadata": {},
   "source": [
    "請定義一個全班高微成績的函式，輸入是一個(3, 30, 3)的array， 表示3個班級中30位學生的成績(小考，期中考，期末考)  。\n",
    "\n",
    "目標輸出則是一個(3, 30, 1)的array，表示所有學生的期末成績，期末成績計算方式如下：\n",
    "\n",
    "1. 小考20%，期中考35%，期末考45%  \n",
    "2. 期中考40%，期末考60%。  \n",
    "(擇優作為期末成績)\n",
    " \n",
    "Hint\n",
    "* 可以用雙重for迴圈 分別跑過班級跟人\n",
    "* 可以先設一個array裝算出來的成績\n",
    "* 記得要用return "
   ]
  },
  {
   "cell_type": "code",
   "execution_count": 54,
   "metadata": {},
   "outputs": [],
   "source": [
    "%matplotlib inline\n",
    "\n",
    "import matplotlib.pyplot as plt\n",
    "import numpy as np\n",
    "import pandas as pd"
   ]
  },
  {
   "cell_type": "code",
   "execution_count": 55,
   "metadata": {},
   "outputs": [],
   "source": [
    "data = np.random.randint(1, 101, (3,30,3))\n",
    "weight1 = [0.2, 0.35, 0.45]\n",
    "weight2 = [0, 0.4, 0.6]"
   ]
  },
  {
   "cell_type": "code",
   "execution_count": 58,
   "metadata": {},
   "outputs": [],
   "source": [
    "def scoring(data):\n",
    "    res = []\n",
    "    for _class in data:\n",
    "        class_res = []\n",
    "        for student in _class:\n",
    "            a = student.dot(weight1)\n",
    "            b = student.dot(weight2)\n",
    "            r = round(max(a, b))\n",
    "            class_res.append([r])\n",
    "        res.append(class_res)\n",
    "    res = np.array(res)\n",
    "    return res"
   ]
  },
  {
   "cell_type": "code",
   "execution_count": 59,
   "metadata": {},
   "outputs": [
    {
     "data": {
      "text/plain": [
       "array([[[66.],\n",
       "        [48.],\n",
       "        [63.],\n",
       "        [51.],\n",
       "        [89.],\n",
       "        [60.],\n",
       "        [53.],\n",
       "        [87.],\n",
       "        [25.],\n",
       "        [60.],\n",
       "        [60.],\n",
       "        [67.],\n",
       "        [54.],\n",
       "        [57.],\n",
       "        [31.],\n",
       "        [39.],\n",
       "        [72.],\n",
       "        [54.],\n",
       "        [62.],\n",
       "        [73.],\n",
       "        [53.],\n",
       "        [59.],\n",
       "        [35.],\n",
       "        [26.],\n",
       "        [96.],\n",
       "        [75.],\n",
       "        [31.],\n",
       "        [87.],\n",
       "        [63.],\n",
       "        [48.]],\n",
       "\n",
       "       [[49.],\n",
       "        [79.],\n",
       "        [87.],\n",
       "        [69.],\n",
       "        [40.],\n",
       "        [21.],\n",
       "        [34.],\n",
       "        [60.],\n",
       "        [39.],\n",
       "        [71.],\n",
       "        [51.],\n",
       "        [43.],\n",
       "        [81.],\n",
       "        [83.],\n",
       "        [51.],\n",
       "        [80.],\n",
       "        [46.],\n",
       "        [38.],\n",
       "        [24.],\n",
       "        [68.],\n",
       "        [58.],\n",
       "        [50.],\n",
       "        [58.],\n",
       "        [30.],\n",
       "        [89.],\n",
       "        [48.],\n",
       "        [70.],\n",
       "        [73.],\n",
       "        [53.],\n",
       "        [71.]],\n",
       "\n",
       "       [[75.],\n",
       "        [65.],\n",
       "        [81.],\n",
       "        [27.],\n",
       "        [42.],\n",
       "        [62.],\n",
       "        [46.],\n",
       "        [62.],\n",
       "        [33.],\n",
       "        [43.],\n",
       "        [86.],\n",
       "        [26.],\n",
       "        [51.],\n",
       "        [45.],\n",
       "        [42.],\n",
       "        [74.],\n",
       "        [68.],\n",
       "        [52.],\n",
       "        [85.],\n",
       "        [23.],\n",
       "        [59.],\n",
       "        [40.],\n",
       "        [50.],\n",
       "        [28.],\n",
       "        [20.],\n",
       "        [48.],\n",
       "        [83.],\n",
       "        [47.],\n",
       "        [71.],\n",
       "        [56.]]])"
      ]
     },
     "execution_count": 59,
     "metadata": {},
     "output_type": "execute_result"
    }
   ],
   "source": [
    "scoring(data)"
   ]
  },
  {
   "cell_type": "code",
   "execution_count": null,
   "metadata": {},
   "outputs": [],
   "source": []
  },
  {
   "cell_type": "code",
   "execution_count": null,
   "metadata": {},
   "outputs": [],
   "source": []
  },
  {
   "cell_type": "code",
   "execution_count": null,
   "metadata": {},
   "outputs": [],
   "source": []
  }
 ],
 "metadata": {
  "kernelspec": {
   "display_name": "Python 3",
   "language": "python",
   "name": "python3"
  },
  "language_info": {
   "codemirror_mode": {
    "name": "ipython",
    "version": 3
   },
   "file_extension": ".py",
   "mimetype": "text/x-python",
   "name": "python",
   "nbconvert_exporter": "python",
   "pygments_lexer": "ipython3",
   "version": "3.7.3"
  }
 },
 "nbformat": 4,
 "nbformat_minor": 2
}
