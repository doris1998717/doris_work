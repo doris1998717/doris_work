{
 "cells": [
  {
   "cell_type": "markdown",
   "metadata": {},
   "source": [
    "# 簡易英漢字典 105405132 廣告四 宋靜"
   ]
  },
  {
   "cell_type": "code",
   "execution_count": 2,
   "metadata": {},
   "outputs": [
    {
     "name": "stdout",
     "output_type": "stream",
     "text": [
      "要查詢的英文單字為：angel\n",
      "天使\n"
     ]
    }
   ],
   "source": [
    "dictionary = {\"angel\": \"天使\",\"angle\": \"角度\",\"cat\": \"貓\", \"dog\": \"狗\"}\n",
    "search = input(\"要查詢的英文單字為：\")\n",
    "\n",
    "if search in dictionary.keys():\n",
    "    print(dictionary[search])\n",
    "else:\n",
    "    print(\"查不到這個英文單字\")\n",
    "    \n",
    "    \n",
    "\n",
    "\n",
    "\n",
    "    "
   ]
  },
  {
   "cell_type": "code",
   "execution_count": null,
   "metadata": {},
   "outputs": [],
   "source": []
  }
 ],
 "metadata": {
  "kernelspec": {
   "display_name": "Python 3",
   "language": "python",
   "name": "python3"
  },
  "language_info": {
   "codemirror_mode": {
    "name": "ipython",
    "version": 3
   },
   "file_extension": ".py",
   "mimetype": "text/x-python",
   "name": "python",
   "nbconvert_exporter": "python",
   "pygments_lexer": "ipython3",
   "version": "3.7.3"
  }
 },
 "nbformat": 4,
 "nbformat_minor": 2
}
