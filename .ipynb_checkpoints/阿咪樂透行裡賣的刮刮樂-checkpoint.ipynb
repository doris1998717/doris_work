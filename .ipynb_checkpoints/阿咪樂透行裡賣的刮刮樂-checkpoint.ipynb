{
 "cells": [
  {
   "cell_type": "code",
   "execution_count": 25,
   "metadata": {},
   "outputs": [
    {
     "name": "stdout",
     "output_type": "stream",
     "text": [
      "你選的第1個號碼為：3\n",
      "你選的第2個號碼為：3\n",
      "你選的第3個號碼為：2\n",
      "中獎號碼為：\n",
      "[2, 3, 3]\n",
      "哀呀貢龜.....\n"
     ]
    }
   ],
   "source": [
    "import random\n",
    "answers = []\n",
    "ansnum = []\n",
    "one = [\"bingo\",\"bingo\",\"bingo\",\"oops\",\"oops\",\"oops\"]\n",
    "random.shuffle(one)\n",
    "\n",
    "print(\"歡迎來到阿咪樂透行，請從1~6中挑選出三個\")\n",
    "\n",
    "for i in range(len(one)):\n",
    "    if one[i] == \"bingo\":\n",
    "        ansnum.append(i+1)\n",
    "\n",
    "    answer = input(\"你選的第{}個號碼為：\".format(i+1))\n",
    "    answers.append(int(answer))\n",
    "\n",
    "answers.sort()\n",
    "    \n",
    "\n",
    "print(\"\\n中獎號碼為：\" )\n",
    "print(answers)\n",
    "\n",
    "if ansnum == answers:\n",
    "    print(\"恭喜中獎!!!!!\")\n",
    "else :\n",
    "    print(\"哀呀貢龜.....\")"
   ]
  },
  {
   "cell_type": "code",
   "execution_count": null,
   "metadata": {},
   "outputs": [],
   "source": []
  }
 ],
 "metadata": {
  "kernelspec": {
   "display_name": "Python 3",
   "language": "python",
   "name": "python3"
  },
  "language_info": {
   "codemirror_mode": {
    "name": "ipython",
    "version": 3
   },
   "file_extension": ".py",
   "mimetype": "text/x-python",
   "name": "python",
   "nbconvert_exporter": "python",
   "pygments_lexer": "ipython3",
   "version": "3.7.3"
  }
 },
 "nbformat": 4,
 "nbformat_minor": 2
}
