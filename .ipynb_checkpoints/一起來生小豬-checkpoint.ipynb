{
 "cells": [
  {
   "cell_type": "markdown",
   "metadata": {},
   "source": [
    "# 105405132 廣告四 宋靜_一起來生小豬!"
   ]
  },
  {
   "cell_type": "code",
   "execution_count": 7,
   "metadata": {},
   "outputs": [
    {
     "name": "stdout",
     "output_type": "stream",
     "text": [
      "黑黑小豬\n",
      "請派出配對小豬：黑黑小豬\n",
      "恭喜你生出一對胖胖的可愛豬寶寶!!\n"
     ]
    }
   ],
   "source": [
    "import random\n",
    "\n",
    "team = [\"紅紅小豬\",\"黑黑小豬\",\"黃黃小豬\"]\n",
    "computer = random.choice(team)\n",
    "print(computer)\n",
    "\n",
    "user = input(\"請派出配對小豬：\")\n",
    "if user == computer:\n",
    "    print(\"恭喜你生出一對胖胖的可愛豬寶寶!!\")\n",
    "else:\n",
    "    print(\"雜種小豬沒人愛!\")"
   ]
  },
  {
   "cell_type": "code",
   "execution_count": null,
   "metadata": {},
   "outputs": [],
   "source": []
  },
  {
   "cell_type": "code",
   "execution_count": null,
   "metadata": {},
   "outputs": [],
   "source": []
  }
 ],
 "metadata": {
  "kernelspec": {
   "display_name": "Python 3",
   "language": "python",
   "name": "python3"
  },
  "language_info": {
   "codemirror_mode": {
    "name": "ipython",
    "version": 3
   },
   "file_extension": ".py",
   "mimetype": "text/x-python",
   "name": "python",
   "nbconvert_exporter": "python",
   "pygments_lexer": "ipython3",
   "version": "3.7.3"
  }
 },
 "nbformat": 4,
 "nbformat_minor": 2
}
