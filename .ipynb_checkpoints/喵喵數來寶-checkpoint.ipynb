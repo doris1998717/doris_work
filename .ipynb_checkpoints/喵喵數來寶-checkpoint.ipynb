{
 "cells": [
  {
   "cell_type": "markdown",
   "metadata": {},
   "source": [
    "# 貓咪真的很可愛_105405132 廣告四 宋靜"
   ]
  },
  {
   "cell_type": "markdown",
   "metadata": {},
   "source": [
    "最近玩了一款養貓咪的手遊「貓咪真的很可愛」，但隨著養的貓咪越來越多，我竟然無法記起所有貓咪的名稱、住處、屬性......\n",
    "\n",
    "為了避免成為一個不稱職的貓奴，來做一個貓咪查詢系統順便練練class好哩!"
   ]
  },
  {
   "cell_type": "code",
   "execution_count": 2,
   "metadata": {},
   "outputs": [
    {
     "name": "stdout",
     "output_type": "stream",
     "text": [
      "你要幹嘛? 1:新增貓貓 2:查詢貓貓 3:刪除貓貓 4:離開1\n",
      "貓貓名字：油豆腐\n",
      "貓貓級別 (1:普通 2:稀有 3:史詩)2\n",
      "貓貓住哪：東京壽司\n",
      "你要幹嘛? 1:新增貓貓 2:查詢貓貓 3:刪除貓貓 4:離開1\n",
      "貓貓名字：芒果\n",
      "貓貓級別 (1:普通 2:稀有 3:史詩)1\n",
      "貓貓住哪：水果店\n",
      "你要幹嘛? 1:新增貓貓 2:查詢貓貓 3:刪除貓貓 4:離開1\n",
      "貓貓名字：幸福\n",
      "貓貓級別 (1:普通 2:稀有 3:史詩)3\n",
      "貓貓住哪：韓國烤肉\n",
      "你要幹嘛? 1:新增貓貓 2:查詢貓貓 3:刪除貓貓 4:離開2\n",
      "【目前貓貓】\n",
      "油豆腐\n",
      "芒果\n",
      "幸福\n",
      "要搜尋哪隻貓貓?芒果\n",
      "芒果是一隻住在水果店的普通貓貓\n",
      "你要幹嘛? 1:新增貓貓 2:查詢貓貓 3:刪除貓貓 4:離開3\n",
      "【目前貓貓】\n",
      "油豆腐\n",
      "芒果\n",
      "幸福\n",
      "要刪除哪隻貓貓?幸福\n",
      "你要幹嘛? 1:新增貓貓 2:查詢貓貓 3:刪除貓貓 4:離開4\n"
     ]
    }
   ],
   "source": [
    "import pickle\n",
    "\n",
    "class Cat():\n",
    "    def __init__(self, name, rank, home):\n",
    "        RANK = ['普通','稀有','史詩']\n",
    "        self.name = name\n",
    "        self.rank = RANK[rank-1]\n",
    "        self.home = home\n",
    "\n",
    "with open('cats_dic.pickle', 'rb') as f:\n",
    "    try:\n",
    "        cats = pickle.load(f)   \n",
    "    except EOFError:\n",
    "        cats = {}\n",
    "        \n",
    "while True:\n",
    "    movement = input('你要幹嘛? 1:新增貓貓 2:查詢貓貓 3:刪除貓貓 4:離開' )\n",
    "    \n",
    "    if movement == '1':\n",
    "        name = input('貓貓名字：')\n",
    "        rank = int(input('貓貓級別 (1:普通 2:稀有 3:史詩)'))\n",
    "        home = input('貓貓住哪：')\n",
    "        cat = Cat(name, rank, home)\n",
    "        cats[cat.name] = cat\n",
    "        \n",
    "    elif movement == '2':\n",
    "        if len(cats) > 0:\n",
    "            print('【目前貓貓】')\n",
    "            for name in cats:\n",
    "                print(name)\n",
    "            search = input('要搜尋哪隻貓貓?')\n",
    "            cat = cats[search]\n",
    "            print('{}是一隻住在{}的{}貓貓'.format(cat.name, cat.home, cat.rank))\n",
    "        else:\n",
    "            print('目前沒有貓貓')\n",
    "            \n",
    "    elif movement == \"3\":\n",
    "        if len(cats) > 0:\n",
    "            print('【目前貓貓】')\n",
    "            for name in cats:\n",
    "                print(name)\n",
    "            delete= input('要刪除哪隻貓貓?')\n",
    "            cats.pop(delete)\n",
    "        else:\n",
    "            print('目前沒有貓貓')\n",
    "        \n",
    "    elif movement == '4':\n",
    "        break\n",
    "        \n",
    "    else:\n",
    "        print('沒有這個選項')\n",
    "        \n",
    "f = open('cats_dic.pickle', 'wb')\n",
    "pickle.dump(cats, f)\n",
    "f.close()"
   ]
  },
  {
   "cell_type": "code",
   "execution_count": null,
   "metadata": {},
   "outputs": [],
   "source": []
  }
 ],
 "metadata": {
  "kernelspec": {
   "display_name": "Python 3",
   "language": "python",
   "name": "python3"
  },
  "language_info": {
   "codemirror_mode": {
    "name": "ipython",
    "version": 3
   },
   "file_extension": ".py",
   "mimetype": "text/x-python",
   "name": "python",
   "nbconvert_exporter": "python",
   "pygments_lexer": "ipython3",
   "version": "3.7.3"
  }
 },
 "nbformat": 4,
 "nbformat_minor": 2
}
