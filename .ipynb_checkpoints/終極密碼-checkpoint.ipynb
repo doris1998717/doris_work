{
 "cells": [
  {
   "cell_type": "markdown",
   "metadata": {},
   "source": [
    "# 105405132 廣告四 宋靜_終極密碼"
   ]
  },
  {
   "cell_type": "code",
   "execution_count": 4,
   "metadata": {},
   "outputs": [
    {
     "name": "stdout",
     "output_type": "stream",
     "text": [
      "22\n",
      "請從1到100中猜一個號碼 55\n",
      "請從1到55中猜一個號碼 2\n",
      "請從2到55中猜一個號碼 20\n",
      "請從20到55中猜一個號碼 40\n",
      "請從20到40中猜一個號碼 22\n",
      "答對ㄌ!!\n"
     ]
    }
   ],
   "source": [
    "import random\n",
    "\n",
    "answer = random.randint(2,99)\n",
    "mini = 1\n",
    "maxi = 100\n",
    "print(answer)\n",
    "\n",
    "\n",
    "while True:\n",
    "    guess = int(input(\"請從\" + str(mini)+\"到\"+str(maxi)+\"中猜一個號碼 \"))\n",
    "    if guess == answer:\n",
    "        print(\"答對ㄌ!!\")\n",
    "        break\n",
    "    elif guess < answer:\n",
    "        mini = guess\n",
    "    elif guess > answer:\n",
    "        maxi = guess\n",
    "\n",
    "        \n",
    "    \n",
    "        "
   ]
  },
  {
   "cell_type": "code",
   "execution_count": null,
   "metadata": {},
   "outputs": [],
   "source": []
  }
 ],
 "metadata": {
  "kernelspec": {
   "display_name": "Python 3",
   "language": "python",
   "name": "python3"
  },
  "language_info": {
   "codemirror_mode": {
    "name": "ipython",
    "version": 3
   },
   "file_extension": ".py",
   "mimetype": "text/x-python",
   "name": "python",
   "nbconvert_exporter": "python",
   "pygments_lexer": "ipython3",
   "version": "3.7.3"
  }
 },
 "nbformat": 4,
 "nbformat_minor": 2
}
