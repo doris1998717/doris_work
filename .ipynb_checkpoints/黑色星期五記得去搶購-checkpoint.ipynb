{
 "cells": [
  {
   "cell_type": "markdown",
   "metadata": {},
   "source": [
    "# 105405132 廣告四 宋靜 黑色星期五\n",
    "\n",
    "黑色星期五，別忘了去搶購"
   ]
  },
  {
   "cell_type": "code",
   "execution_count": null,
   "metadata": {},
   "outputs": [],
   "source": [
    "import datetime\n",
    "import time\n",
    "import calendar"
   ]
  },
  {
   "cell_type": "code",
   "execution_count": null,
   "metadata": {},
   "outputs": [],
   "source": [
    "year = input(\"告訴我今年是幾年，告訴你黑色星期五是哪一天？\")\n",
    "\n",
    "def blackFri(x,y):\n",
    "    return datetime.date(x,11,y)\n",
    "for i in range(int(year),int(year)+1):\n",
    "    for j in range(21,29):\n",
    "        if blackFri(i,j).strftime(\"%a\") == \"Thu\":\n",
    "            print(blackFri(i,j+1) )\n",
    "        "
   ]
  },
  {
   "cell_type": "code",
   "execution_count": null,
   "metadata": {},
   "outputs": [],
   "source": []
  }
 ],
 "metadata": {
  "kernelspec": {
   "display_name": "Python 3",
   "language": "python",
   "name": "python3"
  },
  "language_info": {
   "codemirror_mode": {
    "name": "ipython",
    "version": 3
   },
   "file_extension": ".py",
   "mimetype": "text/x-python",
   "name": "python",
   "nbconvert_exporter": "python",
   "pygments_lexer": "ipython3",
   "version": "3.7.3"
  }
 },
 "nbformat": 4,
 "nbformat_minor": 2
}
