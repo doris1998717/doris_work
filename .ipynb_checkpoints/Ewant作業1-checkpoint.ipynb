{
 "cells": [
  {
   "cell_type": "markdown",
   "metadata": {},
   "source": [
    "向日葵班有40位學生，學期結束後，老師希望知道班上的期末成績相關資訊，作為下個學期教學的參考。\n",
    " \n",
    "請隨機產生40筆0~100的數字作為向日葵班的成績分佈，接著列出最高分、最低分、及格人數(>=60)、平均數、標準差，並且以10分作為一個區間，使用圖表畫出各個區間的人數。"
   ]
  },
  {
   "cell_type": "code",
   "execution_count": 1,
   "metadata": {},
   "outputs": [],
   "source": [
    "%matplotlib inline\n",
    "\n",
    "import matplotlib.pyplot as plt\n",
    "import numpy as np\n",
    "import pandas as pd\n"
   ]
  },
  {
   "cell_type": "code",
   "execution_count": 2,
   "metadata": {},
   "outputs": [],
   "source": [
    "grades = np.random.randint(0,100,40)"
   ]
  },
  {
   "cell_type": "code",
   "execution_count": 3,
   "metadata": {},
   "outputs": [
    {
     "data": {
      "text/plain": [
       "array([42, 88, 34, 92, 88, 22, 60, 16, 57, 20, 75, 15, 28,  5, 80, 71, 96,\n",
       "       59, 69, 65, 88, 23, 87, 13, 78, 54, 36, 67, 52, 25,  5,  7, 49, 83,\n",
       "       18, 83, 92, 23, 47, 65])"
      ]
     },
     "execution_count": 3,
     "metadata": {},
     "output_type": "execute_result"
    }
   ],
   "source": [
    "grades"
   ]
  },
  {
   "cell_type": "code",
   "execution_count": 7,
   "metadata": {},
   "outputs": [],
   "source": [
    "a = grades.max()\n",
    "b = grades.min()\n",
    "c = sum(grades)/len(grades)\n",
    "d = grades.std()\n"
   ]
  },
  {
   "cell_type": "markdown",
   "metadata": {},
   "source": [
    "取及格者："
   ]
  },
  {
   "cell_type": "code",
   "execution_count": 16,
   "metadata": {},
   "outputs": [
    {
     "ename": "IndentationError",
     "evalue": "expected an indented block (<ipython-input-16-76007f91bfcb>, line 4)",
     "output_type": "error",
     "traceback": [
      "\u001b[1;36m  File \u001b[1;32m\"<ipython-input-16-76007f91bfcb>\"\u001b[1;36m, line \u001b[1;32m4\u001b[0m\n\u001b[1;33m    passs.append(i)\u001b[0m\n\u001b[1;37m        ^\u001b[0m\n\u001b[1;31mIndentationError\u001b[0m\u001b[1;31m:\u001b[0m expected an indented block\n"
     ]
    }
   ],
   "source": [
    "passs = []\n",
    "for i in grades:\n",
    "    if int(i) >= 60:\n",
    "    passs.append(i)\n",
    "\n",
    "passs"
   ]
  },
  {
   "cell_type": "code",
   "execution_count": null,
   "metadata": {},
   "outputs": [],
   "source": []
  },
  {
   "cell_type": "code",
   "execution_count": null,
   "metadata": {},
   "outputs": [],
   "source": []
  }
 ],
 "metadata": {
  "kernelspec": {
   "display_name": "Python 3",
   "language": "python",
   "name": "python3"
  },
  "language_info": {
   "codemirror_mode": {
    "name": "ipython",
    "version": 3
   },
   "file_extension": ".py",
   "mimetype": "text/x-python",
   "name": "python",
   "nbconvert_exporter": "python",
   "pygments_lexer": "ipython3",
   "version": "3.7.3"
  }
 },
 "nbformat": 4,
 "nbformat_minor": 2
}
