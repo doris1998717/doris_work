{
 "cells": [
  {
   "cell_type": "markdown",
   "metadata": {},
   "source": [
    "# 105405132 廣告四 宋靜 發票對對對"
   ]
  },
  {
   "cell_type": "code",
   "execution_count": 1,
   "metadata": {},
   "outputs": [
    {
     "name": "stdout",
     "output_type": "stream",
     "text": [
      "特別獎號碼為？  45698621\n",
      "特獎號碼為？  19614436\n",
      "頭獎號碼1為？  96182420\n",
      "頭獎號碼2為？  47464012\n",
      "頭獎號碼3為？  62781818\n",
      "增開六獎號碼1為？  928\n",
      "增開六獎號碼2為？  899\n",
      "【開始對獎】\n",
      "輸入發票後三碼(q離開)：  123\n",
      "嗚嗚..沒有中喔!\n",
      "輸入發票後三碼(q離開)：  456\n",
      "嗚嗚..沒有中喔!\n",
      "輸入發票後三碼(q離開)：  789\n",
      "嗚嗚..沒有中喔!\n",
      "輸入發票後三碼(q離開)：  621\n",
      "有機會喔!請輸入完整號碼：12345621\n",
      "可惜沒中，繼續加油!\n",
      "輸入發票後三碼(q離開)：  45698621\n",
      "嗚嗚..沒有中喔!\n",
      "輸入發票後三碼(q離開)：  621\n",
      "有機會喔!請輸入完整號碼：45698621\n",
      "天哪!!!!!!你中了特別獎1000萬元。\n",
      "輸入發票後三碼(q離開)：  420\n",
      "中獎了!請輸入完整號碼：96172420\n",
      "天哪!!!!!!你中了伍獎1000元。\n",
      "輸入發票後三碼(q離開)：  928\n",
      "天哪!!!!!!你中了增開陸獎200元。\n",
      "輸入發票後三碼(q離開)：  899\n",
      "天哪!!!!!!你中了增開陸獎200元。\n",
      "輸入發票後三碼(q離開)：  62781818\n",
      "嗚嗚..沒有中喔!\n",
      "輸入發票後三碼(q離開)：  q\n"
     ]
    }
   ],
   "source": [
    "prizes = []\n",
    "pri6s = []\n",
    "\n",
    "priSpe = input(\"特別獎號碼為？  \")\n",
    "pri = input(\"特獎號碼為？  \")\n",
    "for i in range(3):\n",
    "    pri1 = input(\"頭獎號碼{}為？  \".format(i+1))\n",
    "    prizes.append(pri1)\n",
    "for i in range(2):\n",
    "    pri2 = input(\"增開六獎號碼{}為？  \".format(i+1))\n",
    "    pri6s.append(pri2)\n",
    "\n",
    "print('【開始對獎】')\n",
    "while True:\n",
    "    num = input(\"輸入發票後三碼(q離開)：  \")\n",
    "\n",
    "    if num == 'q':\n",
    "        break\n",
    "\n",
    "    elif num == priSpe[-3:]:\n",
    "        full = input(\"有機會喔!請輸入完整號碼：\")\n",
    "        if full == priSpe:\n",
    "            print(\"天哪!!!!!!你中了特別獎1000萬元。\")\n",
    "        else:\n",
    "            print(\"可惜沒中，繼續加油!\")\n",
    "            \n",
    "    elif num == pri[-3:]:\n",
    "        full = input(\"有機會喔!請輸入完整號碼：\")\n",
    "        if full == pri:\n",
    "            print(\"天哪!!!!!!你中了特獎200萬元。\")\n",
    "        else:\n",
    "            print(\"可惜沒中，繼續加油!\")\n",
    "\n",
    "    elif num in [i[-3:] for i in prizes]:\n",
    "        p = prizes[[i[-3:] for i in prizes].index(num)]\n",
    "        full = input(\"中獎了!請輸入完整號碼：\")\n",
    "        if full == p:\n",
    "            print(\"天哪!!!!!!你中了頭獎20萬元。\")\n",
    "        elif full[-7:] == p[-7:]:\n",
    "            print(\"天哪!!!!!!你中了貳獎4萬元。\")\n",
    "        elif full[-6:] == p[-6:]:\n",
    "            print(\"天哪!!!!!!你中了參獎1萬元。\")\n",
    "        elif full[-5:] == p[-5:]:\n",
    "            print(\"天哪!!!!!!你中了肆獎4000元。\")\n",
    "        elif full[-4:] == p[-4:]:\n",
    "            print(\"天哪!!!!!!你中了伍獎1000元。\")\n",
    "        elif full[-3:] == p[-3:]:\n",
    "            print(\"天哪!!!!!!你中了陸獎200元。\") \n",
    "    \n",
    "    elif num in pri6s:\n",
    "        print(\"天哪!!!!!!你中了增開陸獎200元。\")\n",
    "    \n",
    "    else:\n",
    "        print('嗚嗚..沒有中喔!')"
   ]
  }
 ],
 "metadata": {
  "kernelspec": {
   "display_name": "Python 3",
   "language": "python",
   "name": "python3"
  },
  "language_info": {
   "codemirror_mode": {
    "name": "ipython",
    "version": 3
   },
   "file_extension": ".py",
   "mimetype": "text/x-python",
   "name": "python",
   "nbconvert_exporter": "python",
   "pygments_lexer": "ipython3",
   "version": "3.7.3"
  }
 },
 "nbformat": 4,
 "nbformat_minor": 2
}
