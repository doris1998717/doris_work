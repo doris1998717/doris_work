{
 "cells": [
  {
   "cell_type": "markdown",
   "metadata": {},
   "source": [
    "# 105405132 廣告四 宋靜"
   ]
  },
  {
   "cell_type": "markdown",
   "metadata": {},
   "source": [
    "玩手遊時覺得裡面的刮刮樂環節很好玩，讓我上癮可惜每次玩需要花費金幣，總是會因為害怕浪費金幣沒辦法盡情的玩，所以決定自己寫一個!想玩幾次就玩幾次!"
   ]
  },
  {
   "cell_type": "code",
   "execution_count": 36,
   "metadata": {},
   "outputs": [
    {
     "name": "stdout",
     "output_type": "stream",
     "text": [
      "歡迎來到阿咪樂透行，請從1~6中挑選出三個你認為的中獎位置，\n",
      "若開獎結果中三個中獎位置都放置相同金額，即可獲得該金額獎金!\n",
      "你選的第1個中獎位置為：1\n",
      "這格刮出來是：10000元\n",
      "你選的第2個中獎位置為：3\n",
      "這格刮出來是：10000元\n",
      "你選的第3個中獎位置為：4\n",
      "這格刮出來是：10元\n",
      "哀呀貢龜.....\n"
     ]
    }
   ],
   "source": [
    "import random\n",
    "answers = []\n",
    "ansnum = []\n",
    "prizes = [\"500元\",\"200元\",\"10000元\",\"10元\"]\n",
    "prize = random.choice(prizes)\n",
    "prizes.remove(prize)\n",
    "\n",
    "one = [prize]*3 + prizes\n",
    "random.shuffle(one)\n",
    "\n",
    "print(\"歡迎來到阿咪樂透行，請從1~6中挑選出三個你認為的中獎位置，\\n若開獎結果中三個中獎位置都放置相同金額，即可獲得該金額獎金!\")\n",
    "\n",
    "for i in range(len(one)):\n",
    "    if one[i] == prize:\n",
    "        ansnum.append(i+1)\n",
    "\n",
    "for i in range(3):\n",
    "    answer = input(\"你選的第{}個中獎位置為：\".format(i+1))\n",
    "    answers.append(int(answer))\n",
    "    print(\"這格刮出來是：\" + one[int(answer)-1])\n",
    "\n",
    "if ansnum == answers:\n",
    "    print(\"恭喜中獎!!!!!妳中了{}發財嚕~~~\".format(prize))\n",
    "else :\n",
    "    print(\"哀呀貢龜.....\")\n",
    "    "
   ]
  }
 ],
 "metadata": {
  "kernelspec": {
   "display_name": "Python 3",
   "language": "python",
   "name": "python3"
  },
  "language_info": {
   "codemirror_mode": {
    "name": "ipython",
    "version": 3
   },
   "file_extension": ".py",
   "mimetype": "text/x-python",
   "name": "python",
   "nbconvert_exporter": "python",
   "pygments_lexer": "ipython3",
   "version": "3.7.3"
  }
 },
 "nbformat": 4,
 "nbformat_minor": 2
}
