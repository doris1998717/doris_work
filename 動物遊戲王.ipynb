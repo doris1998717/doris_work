{
 "cells": [
  {
   "cell_type": "markdown",
   "metadata": {},
   "source": [
    "# 105405132 廣告四 宋靜_動物遊戲王"
   ]
  },
  {
   "cell_type": "code",
   "execution_count": 4,
   "metadata": {},
   "outputs": [
    {
     "name": "stdout",
     "output_type": "stream",
     "text": [
      "歡迎來到動物遊戲王，你手中由弱到強依序有 小豬豬 、 中獅子 、 大龍龍 三位選手。\n",
      "請在共三次的出牌機會中，打敗壞壞電腦大魔王吧！\n",
      "\n",
      "你目前的角色有：小豬豬和中獅子和大龍龍\n",
      "請派出此回合選手：中獅子\n",
      "你派出了中獅子  電腦派出了大龍龍\n",
      "電腦得分!\n",
      "你目前的角色有：小豬豬和大龍龍\n",
      "請派出此回合選手：小豬豬\n",
      "你派出了小豬豬  電腦派出了小豬豬\n",
      "平手!\n",
      "你目前的角色有：大龍龍\n",
      "請派出此回合選手：大龍龍\n",
      "你派出了大龍龍  電腦派出了中獅子\n",
      "恭喜得分!\n",
      "平手ㄌ\n"
     ]
    }
   ],
   "source": [
    "print(\"歡迎來到動物遊戲王，你手中由弱到強依序有 小豬豬 、 中獅子 、 大龍龍 三位選手。\\n請在共三次的出牌機會中，打敗壞壞電腦大魔王吧！\\n\")\n",
    "\n",
    "import random\n",
    "\n",
    "computer = [\"小豬豬\",\"中獅子\",\"大龍龍\"]\n",
    "player = [\"小豬豬\",\"中獅子\",\"大龍龍\"]\n",
    "animals = [\"小豬豬\",\"中獅子\",\"大龍龍\"]\n",
    "compoint = 0\n",
    "userpoint = 0\n",
    "\n",
    "\n",
    "while True:\n",
    "    print(\"你目前的角色有：\"+ \"和\".join(player))\n",
    "    user = input(\"請派出此回合選手：\")\n",
    "    com = random.choice(computer)\n",
    "\n",
    "    if user in player:\n",
    "        player.remove(user)\n",
    "        computer.remove(com)\n",
    "        userN = animals.index(user)\n",
    "        comN = animals.index(com)\n",
    "        print(\"你派出了{}  電腦派出了{}\".format(user, com))\n",
    "        if userN == comN:\n",
    "            print(\"平手!\")\n",
    "        elif userN > comN:\n",
    "            userpoint = userpoint + 1\n",
    "            print(\"恭喜得分!\")\n",
    "        elif userN < comN:\n",
    "            print(\"電腦得分!\")\n",
    "            compoint = compoint + 1\n",
    "    else:\n",
    "        print(\"沒有這個角色啦!\")\n",
    "    \n",
    "    if len(player) == 0:\n",
    "        if userpoint > compoint:\n",
    "            print(\"挖你贏了\")\n",
    "        elif userpoint == compoint:\n",
    "            print(\"平手ㄌ\")\n",
    "        elif userpoint < compoint:\n",
    "            print(\"挖你輸了\")\n",
    "        break\n"
   ]
  },
  {
   "cell_type": "code",
   "execution_count": null,
   "metadata": {},
   "outputs": [],
   "source": []
  },
  {
   "cell_type": "code",
   "execution_count": null,
   "metadata": {},
   "outputs": [],
   "source": []
  }
 ],
 "metadata": {
  "kernelspec": {
   "display_name": "Python 3",
   "language": "python",
   "name": "python3"
  },
  "language_info": {
   "codemirror_mode": {
    "name": "ipython",
    "version": 3
   },
   "file_extension": ".py",
   "mimetype": "text/x-python",
   "name": "python",
   "nbconvert_exporter": "python",
   "pygments_lexer": "ipython3",
   "version": "3.7.3"
  }
 },
 "nbformat": 4,
 "nbformat_minor": 2
}
