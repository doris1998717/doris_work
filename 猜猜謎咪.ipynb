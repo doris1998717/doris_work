{
 "cells": [
  {
   "cell_type": "markdown",
   "metadata": {},
   "source": [
    "# 105405132 廣告四 宋靜_猜猜謎咪"
   ]
  },
  {
   "cell_type": "markdown",
   "metadata": {},
   "source": [
    "我最喜歡玩猜謎ㄌ><"
   ]
  },
  {
   "cell_type": "code",
   "execution_count": 2,
   "metadata": {},
   "outputs": [
    {
     "name": "stdout",
     "output_type": "stream",
     "text": [
      "提示1為：海邊\n",
      "你的答案是：美人魚\n",
      "哀呀....再猜猜吧!\n",
      "\n",
      "提示2為：不是螃蟹\n",
      "你的答案是：海狗\n",
      "哀呀....再猜猜吧!\n",
      "\n",
      "提示3為：不要丟瓶蓋在海邊\n",
      "你的答案是：螃蟹\n",
      "哀呀....再猜猜吧!\n",
      "\n",
      "提示4為：甲殼類\n",
      "你的答案是：蝦子\n",
      "哀呀....再猜猜吧!\n",
      "\n",
      "提示5為：害怕就躲殼裡\n",
      "你的答案是：寄居蟹\n",
      "太厲害了吧!答對了!\n"
     ]
    }
   ],
   "source": [
    "import random\n",
    "\n",
    "subject = {\n",
    "    \"馬來謨\":[\"黑黑白白\",\"感覺你猜不到\",\"可愛的可愛的\",\"有機會活到30歲\",\"「似豬不是豬、似象不是象」\"],\n",
    "    \"寄居蟹\":[\"海邊\",\"不是螃蟹\",\"不要丟瓶蓋在海邊\",\"甲殼類\",\"害怕就躲殼裡\"],\n",
    "    \"兔子\":[\"腳可以帶來幸運\",\"12生肖\",\"好像不會叫\",\"大大耳朵\",\"比烏龜還不會賽跑\"],\n",
    "    \"公雞\":[\"早安\",\"別再睡了= =\",\"好我不叫你起床了,不要吃我\",\"咕...咕咕\",\"咕...咕咕咕.......咕!\"],\n",
    "}\n",
    "\n",
    "\n",
    "animal = random.choice(list(subject.keys()))\n",
    "hints = subject[animal]\n",
    "\n",
    "for hint in hints:\n",
    "    index = hints.index(hint)\n",
    "    print(\"提示{}為：{}\".format(index+1, hint))\n",
    "    ans = input(\"你的答案是：\")\n",
    "    if ans == animal:\n",
    "        print(\"太厲害了吧!答對了!\")\n",
    "        break\n",
    "    elif index == len(hints)-1:\n",
    "        print(\"這樣你都猜不到....不跟你玩了！\")\n",
    "    elif ans != animal:\n",
    "        print(\"哀呀....再猜猜吧!\\n\")\n",
    "    \n",
    "        "
   ]
  },
  {
   "cell_type": "code",
   "execution_count": null,
   "metadata": {},
   "outputs": [],
   "source": []
  }
 ],
 "metadata": {
  "kernelspec": {
   "display_name": "Python 3",
   "language": "python",
   "name": "python3"
  },
  "language_info": {
   "codemirror_mode": {
    "name": "ipython",
    "version": 3
   },
   "file_extension": ".py",
   "mimetype": "text/x-python",
   "name": "python",
   "nbconvert_exporter": "python",
   "pygments_lexer": "ipython3",
   "version": "3.7.3"
  }
 },
 "nbformat": 4,
 "nbformat_minor": 2
}
